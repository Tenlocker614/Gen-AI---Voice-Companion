{
 "cells": [
  {
   "cell_type": "code",
   "execution_count": 5,
   "metadata": {},
   "outputs": [],
   "source": [
    "import os \n",
    "from openai import AzureOpenAI \n",
    "import time\n",
    "import speech_recognition as sr "
   ]
  },
  {
   "cell_type": "code",
   "execution_count": 6,
   "metadata": {},
   "outputs": [],
   "source": [
    "class Companion:\n",
    "    def __init__(self):\n",
    "        self.recognizer = sr.Recognizer()\n",
    "        self.mic = sr.Microphone()\n",
    "        self.recognizer.dynamic_energy_threshold = False\n",
    "        self.recognizer.energy_threshold = 400\n",
    "    \n",
    "    def record_audio(self):\n",
    "        with self.mic as source:\n",
    "            self.recognizer.adjust_for_ambient_noise(source, duration = 0.5)\n",
    "            print(\"Listening ...\")\n",
    "            audio = self.recognizer.listen(source)\n",
    "            \n",
    "            with open('temp_audio.wav', 'wb') as file:\n",
    "                wav_data = audio.get_wav_data()\n",
    "                file.write(wav_data)\n",
    "        \n",
    "        print(\"Stopped Listening ...\")\n",
    "        audio_file_path = 'temp_audio.wav'\n",
    "        result = self.recognizer.recognize_google(audio)\n",
    "        \n",
    "        return result"
   ]
  },
  {
   "cell_type": "code",
   "execution_count": 7,
   "metadata": {},
   "outputs": [],
   "source": [
    "companion_obj = Companion()"
   ]
  },
  {
   "cell_type": "code",
   "execution_count": 8,
   "metadata": {},
   "outputs": [
    {
     "name": "stdout",
     "output_type": "stream",
     "text": [
      "Listening ...\n",
      "Stopped Listening ...\n"
     ]
    },
    {
     "data": {
      "text/plain": [
       "\"ok let's see stop listening print is quite correct\""
      ]
     },
     "execution_count": 8,
     "metadata": {},
     "output_type": "execute_result"
    }
   ],
   "source": [
    "companion_obj.record_audio()"
   ]
  },
  {
   "cell_type": "code",
   "execution_count": null,
   "metadata": {},
   "outputs": [],
   "source": []
  }
 ],
 "metadata": {
  "kernelspec": {
   "display_name": "base",
   "language": "python",
   "name": "python3"
  },
  "language_info": {
   "codemirror_mode": {
    "name": "ipython",
    "version": 3
   },
   "file_extension": ".py",
   "mimetype": "text/x-python",
   "name": "python",
   "nbconvert_exporter": "python",
   "pygments_lexer": "ipython3",
   "version": "3.12.4"
  }
 },
 "nbformat": 4,
 "nbformat_minor": 2
}
